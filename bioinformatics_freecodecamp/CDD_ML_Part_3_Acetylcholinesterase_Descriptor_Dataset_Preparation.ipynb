{
 "cells": [
  {
   "cell_type": "markdown",
   "metadata": {
    "colab_type": "text",
    "id": "l0Y7_lgN4jzM"
   },
   "source": [
    "# **Bioinformatics Project - Computational Drug Discovery [Part 3] Descriptor Calculation and Dataset Preparation**\n",
    "\n",
    "Chanin Nantasenamat\n",
    "\n",
    "[*'Data Professor' YouTube channel*](http://youtube.com/dataprofessor)\n",
    "\n",
    "In this Jupyter notebook, we will be building a real-life **data science project** that you can include in your **data science portfolio**. Particularly, we will be building a machine learning model using the ChEMBL bioactivity data.\n",
    "\n",
    "In **Part 3**, we will be calculating molecular descriptors that are essentially quantitative description of the compounds in the dataset. Finally, we will be preparing this into a dataset for subsequent model building in Part 4.\n",
    "\n",
    "---"
   ]
  },
  {
   "cell_type": "markdown",
   "metadata": {
    "colab_type": "text",
    "id": "o-4IOizard4P"
   },
   "source": [
    "## **Download PaDEL-Descriptor**"
   ]
  },
  {
   "cell_type": "code",
   "execution_count": 1,
   "metadata": {
    "colab": {
     "base_uri": "https://localhost:8080/",
     "height": 572
    },
    "colab_type": "code",
    "id": "H0mjQ2PcrSe5",
    "outputId": "7cd24f88-a9b5-445e-90fc-a2bde1f2aef8"
   },
   "outputs": [
    {
     "name": "stderr",
     "output_type": "stream",
     "text": [
      "--2025-10-22 12:10:06--  https://github.com/dataprofessor/bioinformatics/raw/master/padel.zip\n",
      "Resolving github.com (github.com)... 140.82.113.3\n",
      "Connecting to github.com (github.com)|140.82.113.3|:443... connected.\n",
      "HTTP request sent, awaiting response... 404 Not Found\n",
      "2025-10-22 12:10:07 ERROR 404: Not Found.\n",
      "\n",
      "--2025-10-22 12:10:07--  https://github.com/dataprofessor/bioinformatics/raw/master/padel.sh\n",
      "Resolving github.com (github.com)... 140.82.113.3\n",
      "Connecting to github.com (github.com)|140.82.113.3|:443... connected.\n",
      "HTTP request sent, awaiting response... 404 Not Found\n",
      "2025-10-22 12:10:08 ERROR 404: Not Found.\n",
      "\n"
     ]
    }
   ],
   "source": [
    "! wget https://github.com/dataprofessor/bioinformatics/raw/master/padel.zip\n",
    "! wget https://github.com/dataprofessor/bioinformatics/raw/master/padel.sh"
   ]
  },
  {
   "cell_type": "code",
   "execution_count": 2,
   "metadata": {
    "colab": {
     "base_uri": "https://localhost:8080/",
     "height": 1000
    },
    "colab_type": "code",
    "id": "64HnTL4tS-nA",
    "outputId": "b082c979-db9f-48dd-8050-0462b6cf4979"
   },
   "outputs": [
    {
     "name": "stderr",
     "output_type": "stream",
     "text": [
      "'unzip' is not recognized as an internal or external command,\n",
      "operable program or batch file.\n"
     ]
    }
   ],
   "source": [
    "! unzip padel.zip"
   ]
  },
  {
   "cell_type": "markdown",
   "metadata": {
    "colab_type": "text",
    "id": "QmxXXFa4wTNG"
   },
   "source": [
    "## **Load bioactivity data**"
   ]
  },
  {
   "cell_type": "markdown",
   "metadata": {
    "colab_type": "text",
    "id": "fcBvxkPWKFRV"
   },
   "source": [
    "Download the curated ChEMBL bioactivity data that has been pre-processed from Parts 1 and 2 of this Bioinformatics Project series. Here we will be using the **bioactivity_data_3class_pIC50.csv** file that essentially contain the pIC50 values that we will be using for building a regression model."
   ]
  },
  {
   "cell_type": "code",
   "execution_count": 3,
   "metadata": {
    "colab": {
     "base_uri": "https://localhost:8080/",
     "height": 208
    },
    "colab_type": "code",
    "id": "JBs7QdJoubWC",
    "outputId": "3d6bfdcd-1eb9-4930-8e43-45d217f7d22b"
   },
   "outputs": [
    {
     "name": "stderr",
     "output_type": "stream",
     "text": [
      "--2025-10-22 12:12:07--  https://raw.githubusercontent.com/dataprofessor/data/master/acetylcholinesterase_04_bioactivity_data_3class_pIC50.csv\n",
      "Resolving raw.githubusercontent.com (raw.githubusercontent.com)... 185.199.111.133, 185.199.110.133, 185.199.109.133, ...\n",
      "Connecting to raw.githubusercontent.com (raw.githubusercontent.com)|185.199.111.133|:443... connected.\n",
      "HTTP request sent, awaiting response... 200 OK\n",
      "Length: 655414 (640K) [text/plain]\n",
      "Saving to: 'acetylcholinesterase_04_bioactivity_data_3class_pIC50.csv.1'\n",
      "\n",
      "     0K .......... .......... .......... .......... ..........  7% 4.90M 0s\n",
      "    50K .......... .......... .......... .......... .......... 15% 6.60M 0s\n",
      "   100K .......... .......... .......... .......... .......... 23% 4.07M 0s\n",
      "   150K .......... .......... .......... .......... .......... 31% 18.1M 0s\n",
      "   200K .......... .......... .......... .......... .......... 39% 4.02M 0s\n",
      "   250K .......... .......... .......... .......... .......... 46% 3.17M 0s\n",
      "   300K .......... .......... .......... .......... .......... 54% 6.63M 0s\n",
      "   350K .......... .......... .......... .......... .......... 62% 10.1M 0s\n",
      "   400K .......... .......... .......... .......... .......... 70% 24.4M 0s\n",
      "   450K .......... .......... .......... .......... .......... 78% 7.83M 0s\n",
      "   500K .......... .......... .......... .......... .......... 85% 12.2M 0s\n",
      "   550K .......... .......... .......... .......... .......... 93% 7.98M 0s\n",
      "   600K .......... .......... .......... ..........           100% 9.02M=0.09s\n",
      "\n",
      "2025-10-22 12:12:07 (6.61 MB/s) - 'acetylcholinesterase_04_bioactivity_data_3class_pIC50.csv.1' saved [655414/655414]\n",
      "\n"
     ]
    }
   ],
   "source": [
    "! wget https://raw.githubusercontent.com/dataprofessor/data/master/acetylcholinesterase_04_bioactivity_data_3class_pIC50.csv"
   ]
  },
  {
   "cell_type": "code",
   "execution_count": 4,
   "metadata": {
    "colab": {},
    "colab_type": "code",
    "id": "Fpu5C7HlwV9s"
   },
   "outputs": [],
   "source": [
    "import pandas as pd"
   ]
  },
  {
   "cell_type": "code",
   "execution_count": 5,
   "metadata": {
    "colab": {},
    "colab_type": "code",
    "id": "GCcE8J5XwjtB"
   },
   "outputs": [],
   "source": [
    "df3 = pd.read_csv('acetylcholinesterase_04_bioactivity_data_3class_pIC50.csv')"
   ]
  },
  {
   "cell_type": "code",
   "execution_count": 6,
   "metadata": {
    "colab": {
     "base_uri": "https://localhost:8080/",
     "height": 467
    },
    "colab_type": "code",
    "id": "60z_N6egNiSJ",
    "outputId": "4419acc9-ced7-4a45-b849-665ed5e0fd99"
   },
   "outputs": [
    {
     "data": {
      "text/html": [
       "<div>\n",
       "<style scoped>\n",
       "    .dataframe tbody tr th:only-of-type {\n",
       "        vertical-align: middle;\n",
       "    }\n",
       "\n",
       "    .dataframe tbody tr th {\n",
       "        vertical-align: top;\n",
       "    }\n",
       "\n",
       "    .dataframe thead th {\n",
       "        text-align: right;\n",
       "    }\n",
       "</style>\n",
       "<table border=\"1\" class=\"dataframe\">\n",
       "  <thead>\n",
       "    <tr style=\"text-align: right;\">\n",
       "      <th></th>\n",
       "      <th>Unnamed: 0</th>\n",
       "      <th>molecule_chembl_id</th>\n",
       "      <th>canonical_smiles</th>\n",
       "      <th>class</th>\n",
       "      <th>MW</th>\n",
       "      <th>LogP</th>\n",
       "      <th>NumHDonors</th>\n",
       "      <th>NumHAcceptors</th>\n",
       "      <th>pIC50</th>\n",
       "    </tr>\n",
       "  </thead>\n",
       "  <tbody>\n",
       "    <tr>\n",
       "      <th>0</th>\n",
       "      <td>0</td>\n",
       "      <td>CHEMBL463210</td>\n",
       "      <td>CCOP(=S)(OCC)Oc1nc(Cl)c(Cl)cc1Cl</td>\n",
       "      <td>intermediate</td>\n",
       "      <td>350.591</td>\n",
       "      <td>4.7181</td>\n",
       "      <td>0.0</td>\n",
       "      <td>5.0</td>\n",
       "      <td>5.737549</td>\n",
       "    </tr>\n",
       "    <tr>\n",
       "      <th>1</th>\n",
       "      <td>1</td>\n",
       "      <td>CHEMBL2252723</td>\n",
       "      <td>CCOP(=O)(OCC)SCCCCCCCCCCN1C(=O)c2ccccc2C1=O</td>\n",
       "      <td>inactive</td>\n",
       "      <td>455.557</td>\n",
       "      <td>6.3177</td>\n",
       "      <td>0.0</td>\n",
       "      <td>6.0</td>\n",
       "      <td>3.947999</td>\n",
       "    </tr>\n",
       "    <tr>\n",
       "      <th>2</th>\n",
       "      <td>2</td>\n",
       "      <td>CHEMBL2252722</td>\n",
       "      <td>CCOP(=O)(OCC)SCCCCCCCCCN1C(=O)c2ccccc2C1=O</td>\n",
       "      <td>inactive</td>\n",
       "      <td>441.530</td>\n",
       "      <td>5.9276</td>\n",
       "      <td>0.0</td>\n",
       "      <td>6.0</td>\n",
       "      <td>4.425969</td>\n",
       "    </tr>\n",
       "    <tr>\n",
       "      <th>3</th>\n",
       "      <td>3</td>\n",
       "      <td>CHEMBL2252721</td>\n",
       "      <td>CCOP(=O)(OCC)SCCCCCCCCN1C(=O)c2ccccc2C1=O</td>\n",
       "      <td>intermediate</td>\n",
       "      <td>427.503</td>\n",
       "      <td>5.5375</td>\n",
       "      <td>0.0</td>\n",
       "      <td>6.0</td>\n",
       "      <td>5.346787</td>\n",
       "    </tr>\n",
       "    <tr>\n",
       "      <th>4</th>\n",
       "      <td>4</td>\n",
       "      <td>CHEMBL2252851</td>\n",
       "      <td>CCOP(=O)(OCC)SCCCCCCCN1C(=O)c2ccccc2C1=O</td>\n",
       "      <td>intermediate</td>\n",
       "      <td>413.476</td>\n",
       "      <td>5.1474</td>\n",
       "      <td>0.0</td>\n",
       "      <td>6.0</td>\n",
       "      <td>5.735182</td>\n",
       "    </tr>\n",
       "    <tr>\n",
       "      <th>5</th>\n",
       "      <td>5</td>\n",
       "      <td>CHEMBL2252850</td>\n",
       "      <td>CCOP(=O)(OCC)SCCCCCCN1C(=O)c2ccccc2C1=O</td>\n",
       "      <td>intermediate</td>\n",
       "      <td>399.449</td>\n",
       "      <td>4.7573</td>\n",
       "      <td>0.0</td>\n",
       "      <td>6.0</td>\n",
       "      <td>5.419075</td>\n",
       "    </tr>\n",
       "    <tr>\n",
       "      <th>6</th>\n",
       "      <td>6</td>\n",
       "      <td>CHEMBL2252849</td>\n",
       "      <td>CCOP(=O)(OCC)SCCCCCN1C(=O)c2ccccc2C1=O</td>\n",
       "      <td>inactive</td>\n",
       "      <td>385.422</td>\n",
       "      <td>4.3672</td>\n",
       "      <td>0.0</td>\n",
       "      <td>6.0</td>\n",
       "      <td>4.908685</td>\n",
       "    </tr>\n",
       "    <tr>\n",
       "      <th>7</th>\n",
       "      <td>7</td>\n",
       "      <td>CHEMBL2252848</td>\n",
       "      <td>CCOP(=O)(OCC)SCCCCN1C(=O)c2ccccc2C1=O</td>\n",
       "      <td>intermediate</td>\n",
       "      <td>371.395</td>\n",
       "      <td>3.9771</td>\n",
       "      <td>0.0</td>\n",
       "      <td>6.0</td>\n",
       "      <td>5.003488</td>\n",
       "    </tr>\n",
       "    <tr>\n",
       "      <th>8</th>\n",
       "      <td>8</td>\n",
       "      <td>CHEMBL2252847</td>\n",
       "      <td>CCOP(=O)(OCC)SCCCN1C(=O)c2ccccc2C1=O</td>\n",
       "      <td>intermediate</td>\n",
       "      <td>357.368</td>\n",
       "      <td>3.5870</td>\n",
       "      <td>0.0</td>\n",
       "      <td>6.0</td>\n",
       "      <td>5.081445</td>\n",
       "    </tr>\n",
       "    <tr>\n",
       "      <th>9</th>\n",
       "      <td>9</td>\n",
       "      <td>CHEMBL2252846</td>\n",
       "      <td>CCOP(=O)(OCC)SCCCCCCCCCCSP(=O)(OCC)OCC</td>\n",
       "      <td>intermediate</td>\n",
       "      <td>478.594</td>\n",
       "      <td>7.9358</td>\n",
       "      <td>0.0</td>\n",
       "      <td>8.0</td>\n",
       "      <td>5.754487</td>\n",
       "    </tr>\n",
       "    <tr>\n",
       "      <th>10</th>\n",
       "      <td>10</td>\n",
       "      <td>CHEMBL2252845</td>\n",
       "      <td>CCOP(=O)(OCC)SCCCCCCCCCSP(=O)(OCC)OCC</td>\n",
       "      <td>intermediate</td>\n",
       "      <td>464.567</td>\n",
       "      <td>7.5457</td>\n",
       "      <td>0.0</td>\n",
       "      <td>8.0</td>\n",
       "      <td>5.844664</td>\n",
       "    </tr>\n",
       "    <tr>\n",
       "      <th>11</th>\n",
       "      <td>11</td>\n",
       "      <td>CHEMBL2252844</td>\n",
       "      <td>CCOP(=O)(OCC)SCCCCCCCCSP(=O)(OCC)OCC</td>\n",
       "      <td>intermediate</td>\n",
       "      <td>450.540</td>\n",
       "      <td>7.1556</td>\n",
       "      <td>0.0</td>\n",
       "      <td>8.0</td>\n",
       "      <td>5.315155</td>\n",
       "    </tr>\n",
       "    <tr>\n",
       "      <th>12</th>\n",
       "      <td>12</td>\n",
       "      <td>CHEMBL2252843</td>\n",
       "      <td>CCOP(=O)(OCC)SCCCCCCCSP(=O)(OCC)OCC</td>\n",
       "      <td>inactive</td>\n",
       "      <td>436.513</td>\n",
       "      <td>6.7655</td>\n",
       "      <td>0.0</td>\n",
       "      <td>8.0</td>\n",
       "      <td>4.991400</td>\n",
       "    </tr>\n",
       "    <tr>\n",
       "      <th>13</th>\n",
       "      <td>13</td>\n",
       "      <td>CHEMBL2252842</td>\n",
       "      <td>CCOP(=O)(OCC)SCCCCCCSP(=O)(OCC)OCC</td>\n",
       "      <td>active</td>\n",
       "      <td>422.486</td>\n",
       "      <td>6.3754</td>\n",
       "      <td>0.0</td>\n",
       "      <td>8.0</td>\n",
       "      <td>6.060481</td>\n",
       "    </tr>\n",
       "    <tr>\n",
       "      <th>14</th>\n",
       "      <td>14</td>\n",
       "      <td>CHEMBL2252841</td>\n",
       "      <td>CCOP(=O)(OCC)SCCCCCSP(=O)(OCC)OCC</td>\n",
       "      <td>inactive</td>\n",
       "      <td>408.459</td>\n",
       "      <td>5.9853</td>\n",
       "      <td>0.0</td>\n",
       "      <td>8.0</td>\n",
       "      <td>4.908685</td>\n",
       "    </tr>\n",
       "    <tr>\n",
       "      <th>15</th>\n",
       "      <td>15</td>\n",
       "      <td>CHEMBL2252840</td>\n",
       "      <td>CCOP(=O)(OCC)SCCCCSP(=O)(OCC)OCC</td>\n",
       "      <td>intermediate</td>\n",
       "      <td>394.432</td>\n",
       "      <td>5.5952</td>\n",
       "      <td>0.0</td>\n",
       "      <td>8.0</td>\n",
       "      <td>5.093126</td>\n",
       "    </tr>\n",
       "    <tr>\n",
       "      <th>16</th>\n",
       "      <td>16</td>\n",
       "      <td>CHEMBL2252724</td>\n",
       "      <td>CCOP(=O)(OCC)SCCCSP(=O)(OCC)OCC</td>\n",
       "      <td>intermediate</td>\n",
       "      <td>380.405</td>\n",
       "      <td>5.2051</td>\n",
       "      <td>0.0</td>\n",
       "      <td>8.0</td>\n",
       "      <td>5.785156</td>\n",
       "    </tr>\n",
       "    <tr>\n",
       "      <th>17</th>\n",
       "      <td>17</td>\n",
       "      <td>CHEMBL1232328</td>\n",
       "      <td>CCOP(O)(=S)OCC</td>\n",
       "      <td>inactive</td>\n",
       "      <td>170.170</td>\n",
       "      <td>1.2762</td>\n",
       "      <td>1.0</td>\n",
       "      <td>3.0</td>\n",
       "      <td>1.397940</td>\n",
       "    </tr>\n",
       "  </tbody>\n",
       "</table>\n",
       "</div>"
      ],
      "text/plain": [
       "    Unnamed: 0 molecule_chembl_id  \\\n",
       "0            0       CHEMBL463210   \n",
       "1            1      CHEMBL2252723   \n",
       "2            2      CHEMBL2252722   \n",
       "3            3      CHEMBL2252721   \n",
       "4            4      CHEMBL2252851   \n",
       "5            5      CHEMBL2252850   \n",
       "6            6      CHEMBL2252849   \n",
       "7            7      CHEMBL2252848   \n",
       "8            8      CHEMBL2252847   \n",
       "9            9      CHEMBL2252846   \n",
       "10          10      CHEMBL2252845   \n",
       "11          11      CHEMBL2252844   \n",
       "12          12      CHEMBL2252843   \n",
       "13          13      CHEMBL2252842   \n",
       "14          14      CHEMBL2252841   \n",
       "15          15      CHEMBL2252840   \n",
       "16          16      CHEMBL2252724   \n",
       "17          17      CHEMBL1232328   \n",
       "\n",
       "                               canonical_smiles         class       MW  \\\n",
       "0              CCOP(=S)(OCC)Oc1nc(Cl)c(Cl)cc1Cl  intermediate  350.591   \n",
       "1   CCOP(=O)(OCC)SCCCCCCCCCCN1C(=O)c2ccccc2C1=O      inactive  455.557   \n",
       "2    CCOP(=O)(OCC)SCCCCCCCCCN1C(=O)c2ccccc2C1=O      inactive  441.530   \n",
       "3     CCOP(=O)(OCC)SCCCCCCCCN1C(=O)c2ccccc2C1=O  intermediate  427.503   \n",
       "4      CCOP(=O)(OCC)SCCCCCCCN1C(=O)c2ccccc2C1=O  intermediate  413.476   \n",
       "5       CCOP(=O)(OCC)SCCCCCCN1C(=O)c2ccccc2C1=O  intermediate  399.449   \n",
       "6        CCOP(=O)(OCC)SCCCCCN1C(=O)c2ccccc2C1=O      inactive  385.422   \n",
       "7         CCOP(=O)(OCC)SCCCCN1C(=O)c2ccccc2C1=O  intermediate  371.395   \n",
       "8          CCOP(=O)(OCC)SCCCN1C(=O)c2ccccc2C1=O  intermediate  357.368   \n",
       "9        CCOP(=O)(OCC)SCCCCCCCCCCSP(=O)(OCC)OCC  intermediate  478.594   \n",
       "10        CCOP(=O)(OCC)SCCCCCCCCCSP(=O)(OCC)OCC  intermediate  464.567   \n",
       "11         CCOP(=O)(OCC)SCCCCCCCCSP(=O)(OCC)OCC  intermediate  450.540   \n",
       "12          CCOP(=O)(OCC)SCCCCCCCSP(=O)(OCC)OCC      inactive  436.513   \n",
       "13           CCOP(=O)(OCC)SCCCCCCSP(=O)(OCC)OCC        active  422.486   \n",
       "14            CCOP(=O)(OCC)SCCCCCSP(=O)(OCC)OCC      inactive  408.459   \n",
       "15             CCOP(=O)(OCC)SCCCCSP(=O)(OCC)OCC  intermediate  394.432   \n",
       "16              CCOP(=O)(OCC)SCCCSP(=O)(OCC)OCC  intermediate  380.405   \n",
       "17                               CCOP(O)(=S)OCC      inactive  170.170   \n",
       "\n",
       "      LogP  NumHDonors  NumHAcceptors     pIC50  \n",
       "0   4.7181         0.0            5.0  5.737549  \n",
       "1   6.3177         0.0            6.0  3.947999  \n",
       "2   5.9276         0.0            6.0  4.425969  \n",
       "3   5.5375         0.0            6.0  5.346787  \n",
       "4   5.1474         0.0            6.0  5.735182  \n",
       "5   4.7573         0.0            6.0  5.419075  \n",
       "6   4.3672         0.0            6.0  4.908685  \n",
       "7   3.9771         0.0            6.0  5.003488  \n",
       "8   3.5870         0.0            6.0  5.081445  \n",
       "9   7.9358         0.0            8.0  5.754487  \n",
       "10  7.5457         0.0            8.0  5.844664  \n",
       "11  7.1556         0.0            8.0  5.315155  \n",
       "12  6.7655         0.0            8.0  4.991400  \n",
       "13  6.3754         0.0            8.0  6.060481  \n",
       "14  5.9853         0.0            8.0  4.908685  \n",
       "15  5.5952         0.0            8.0  5.093126  \n",
       "16  5.2051         0.0            8.0  5.785156  \n",
       "17  1.2762         1.0            3.0  1.397940  "
      ]
     },
     "execution_count": 6,
     "metadata": {},
     "output_type": "execute_result"
    }
   ],
   "source": [
    "df3"
   ]
  },
  {
   "cell_type": "code",
   "execution_count": 7,
   "metadata": {
    "colab": {},
    "colab_type": "code",
    "id": "BJDJkY43R-9F"
   },
   "outputs": [],
   "source": [
    "selection = ['canonical_smiles','molecule_chembl_id']\n",
    "df3_selection = df3[selection]\n",
    "df3_selection.to_csv('molecule.smi', sep='\\t', index=False, header=False)"
   ]
  },
  {
   "cell_type": "code",
   "execution_count": 8,
   "metadata": {
    "colab": {
     "base_uri": "https://localhost:8080/",
     "height": 104
    },
    "colab_type": "code",
    "id": "nRSCoPVDSkf5",
    "outputId": "2be43c1d-d8b8-42a8-93fc-4c1b29855a8a"
   },
   "outputs": [
    {
     "name": "stderr",
     "output_type": "stream",
     "text": [
      "'head' is not recognized as an internal or external command,\n",
      "operable program or batch file.\n"
     ]
    }
   ],
   "source": [
    "! cat molecule.smi | head -5"
   ]
  },
  {
   "cell_type": "code",
   "execution_count": 9,
   "metadata": {
    "colab": {
     "base_uri": "https://localhost:8080/",
     "height": 35
    },
    "colab_type": "code",
    "id": "GlYaJ9pzUGjS",
    "outputId": "6dab2be5-172a-4efb-8b42-7ceef402bfa3"
   },
   "outputs": [
    {
     "name": "stderr",
     "output_type": "stream",
     "text": [
      "'wc' is not recognized as an internal or external command,\n",
      "operable program or batch file.\n"
     ]
    }
   ],
   "source": [
    "! cat molecule.smi | wc -l"
   ]
  },
  {
   "cell_type": "markdown",
   "metadata": {
    "colab_type": "text",
    "id": "YzN_S4Quro5S"
   },
   "source": [
    "## **Calculate fingerprint descriptors**\n"
   ]
  },
  {
   "cell_type": "markdown",
   "metadata": {
    "colab_type": "text",
    "id": "JsgTV-ByxdMa"
   },
   "source": [
    "### **Calculate PaDEL descriptors**"
   ]
  },
  {
   "cell_type": "code",
   "execution_count": 10,
   "metadata": {
    "colab": {
     "base_uri": "https://localhost:8080/",
     "height": 55
    },
    "colab_type": "code",
    "id": "hSCopQvEiSMj",
    "outputId": "77fe3614-69ef-4bd1-9dca-2a9b2c975fbb"
   },
   "outputs": [
    {
     "name": "stderr",
     "output_type": "stream",
     "text": [
      "cat: padel.sh: No such file or directory\n"
     ]
    }
   ],
   "source": [
    "! cat padel.sh"
   ]
  },
  {
   "cell_type": "code",
   "execution_count": 11,
   "metadata": {
    "colab": {
     "base_uri": "https://localhost:8080/",
     "height": 1000
    },
    "colab_type": "code",
    "id": "6kN9jrGpS5nE",
    "outputId": "456a4161-b3dd-44b9-bc82-2523976f25ea"
   },
   "outputs": [
    {
     "name": "stderr",
     "output_type": "stream",
     "text": [
      "/bin/bash: padel.sh: No such file or directory\n"
     ]
    }
   ],
   "source": [
    "! bash padel.sh"
   ]
  },
  {
   "cell_type": "code",
   "execution_count": 12,
   "metadata": {
    "colab": {
     "base_uri": "https://localhost:8080/",
     "height": 173
    },
    "colab_type": "code",
    "id": "2p7rAVy_k_hH",
    "outputId": "7404029f-4d69-486c-97a2-faf6d4574971"
   },
   "outputs": [
    {
     "name": "stderr",
     "output_type": "stream",
     "text": [
      "'ls' is not recognized as an internal or external command,\n",
      "operable program or batch file.\n"
     ]
    }
   ],
   "source": [
    "! ls -l"
   ]
  },
  {
   "cell_type": "markdown",
   "metadata": {
    "colab_type": "text",
    "id": "gUMlPfFrxicj"
   },
   "source": [
    "## **Preparing the X and Y Data Matrices**"
   ]
  },
  {
   "cell_type": "markdown",
   "metadata": {
    "colab_type": "text",
    "id": "30aa4WP4ZA8M"
   },
   "source": [
    "### **X data matrix**"
   ]
  },
  {
   "cell_type": "code",
   "execution_count": 13,
   "metadata": {
    "colab": {},
    "colab_type": "code",
    "id": "3g319qxVl7tY"
   },
   "outputs": [
    {
     "ename": "FileNotFoundError",
     "evalue": "[Errno 2] No such file or directory: 'descriptors_output.csv'",
     "output_type": "error",
     "traceback": [
      "\u001b[1;31m---------------------------------------------------------------------------\u001b[0m",
      "\u001b[1;31mFileNotFoundError\u001b[0m                         Traceback (most recent call last)",
      "Cell \u001b[1;32mIn[13], line 1\u001b[0m\n\u001b[1;32m----> 1\u001b[0m df3_X \u001b[38;5;241m=\u001b[39m pd\u001b[38;5;241m.\u001b[39mread_csv(\u001b[38;5;124m'\u001b[39m\u001b[38;5;124mdescriptors_output.csv\u001b[39m\u001b[38;5;124m'\u001b[39m)\n",
      "File \u001b[1;32mC:\\ProgramData\\anaconda3\\Lib\\site-packages\\pandas\\io\\parsers\\readers.py:1026\u001b[0m, in \u001b[0;36mread_csv\u001b[1;34m(filepath_or_buffer, sep, delimiter, header, names, index_col, usecols, dtype, engine, converters, true_values, false_values, skipinitialspace, skiprows, skipfooter, nrows, na_values, keep_default_na, na_filter, verbose, skip_blank_lines, parse_dates, infer_datetime_format, keep_date_col, date_parser, date_format, dayfirst, cache_dates, iterator, chunksize, compression, thousands, decimal, lineterminator, quotechar, quoting, doublequote, escapechar, comment, encoding, encoding_errors, dialect, on_bad_lines, delim_whitespace, low_memory, memory_map, float_precision, storage_options, dtype_backend)\u001b[0m\n\u001b[0;32m   1013\u001b[0m kwds_defaults \u001b[38;5;241m=\u001b[39m _refine_defaults_read(\n\u001b[0;32m   1014\u001b[0m     dialect,\n\u001b[0;32m   1015\u001b[0m     delimiter,\n\u001b[1;32m   (...)\u001b[0m\n\u001b[0;32m   1022\u001b[0m     dtype_backend\u001b[38;5;241m=\u001b[39mdtype_backend,\n\u001b[0;32m   1023\u001b[0m )\n\u001b[0;32m   1024\u001b[0m kwds\u001b[38;5;241m.\u001b[39mupdate(kwds_defaults)\n\u001b[1;32m-> 1026\u001b[0m \u001b[38;5;28;01mreturn\u001b[39;00m _read(filepath_or_buffer, kwds)\n",
      "File \u001b[1;32mC:\\ProgramData\\anaconda3\\Lib\\site-packages\\pandas\\io\\parsers\\readers.py:620\u001b[0m, in \u001b[0;36m_read\u001b[1;34m(filepath_or_buffer, kwds)\u001b[0m\n\u001b[0;32m    617\u001b[0m _validate_names(kwds\u001b[38;5;241m.\u001b[39mget(\u001b[38;5;124m\"\u001b[39m\u001b[38;5;124mnames\u001b[39m\u001b[38;5;124m\"\u001b[39m, \u001b[38;5;28;01mNone\u001b[39;00m))\n\u001b[0;32m    619\u001b[0m \u001b[38;5;66;03m# Create the parser.\u001b[39;00m\n\u001b[1;32m--> 620\u001b[0m parser \u001b[38;5;241m=\u001b[39m TextFileReader(filepath_or_buffer, \u001b[38;5;241m*\u001b[39m\u001b[38;5;241m*\u001b[39mkwds)\n\u001b[0;32m    622\u001b[0m \u001b[38;5;28;01mif\u001b[39;00m chunksize \u001b[38;5;129;01mor\u001b[39;00m iterator:\n\u001b[0;32m    623\u001b[0m     \u001b[38;5;28;01mreturn\u001b[39;00m parser\n",
      "File \u001b[1;32mC:\\ProgramData\\anaconda3\\Lib\\site-packages\\pandas\\io\\parsers\\readers.py:1620\u001b[0m, in \u001b[0;36mTextFileReader.__init__\u001b[1;34m(self, f, engine, **kwds)\u001b[0m\n\u001b[0;32m   1617\u001b[0m     \u001b[38;5;28mself\u001b[39m\u001b[38;5;241m.\u001b[39moptions[\u001b[38;5;124m\"\u001b[39m\u001b[38;5;124mhas_index_names\u001b[39m\u001b[38;5;124m\"\u001b[39m] \u001b[38;5;241m=\u001b[39m kwds[\u001b[38;5;124m\"\u001b[39m\u001b[38;5;124mhas_index_names\u001b[39m\u001b[38;5;124m\"\u001b[39m]\n\u001b[0;32m   1619\u001b[0m \u001b[38;5;28mself\u001b[39m\u001b[38;5;241m.\u001b[39mhandles: IOHandles \u001b[38;5;241m|\u001b[39m \u001b[38;5;28;01mNone\u001b[39;00m \u001b[38;5;241m=\u001b[39m \u001b[38;5;28;01mNone\u001b[39;00m\n\u001b[1;32m-> 1620\u001b[0m \u001b[38;5;28mself\u001b[39m\u001b[38;5;241m.\u001b[39m_engine \u001b[38;5;241m=\u001b[39m \u001b[38;5;28mself\u001b[39m\u001b[38;5;241m.\u001b[39m_make_engine(f, \u001b[38;5;28mself\u001b[39m\u001b[38;5;241m.\u001b[39mengine)\n",
      "File \u001b[1;32mC:\\ProgramData\\anaconda3\\Lib\\site-packages\\pandas\\io\\parsers\\readers.py:1880\u001b[0m, in \u001b[0;36mTextFileReader._make_engine\u001b[1;34m(self, f, engine)\u001b[0m\n\u001b[0;32m   1878\u001b[0m     \u001b[38;5;28;01mif\u001b[39;00m \u001b[38;5;124m\"\u001b[39m\u001b[38;5;124mb\u001b[39m\u001b[38;5;124m\"\u001b[39m \u001b[38;5;129;01mnot\u001b[39;00m \u001b[38;5;129;01min\u001b[39;00m mode:\n\u001b[0;32m   1879\u001b[0m         mode \u001b[38;5;241m+\u001b[39m\u001b[38;5;241m=\u001b[39m \u001b[38;5;124m\"\u001b[39m\u001b[38;5;124mb\u001b[39m\u001b[38;5;124m\"\u001b[39m\n\u001b[1;32m-> 1880\u001b[0m \u001b[38;5;28mself\u001b[39m\u001b[38;5;241m.\u001b[39mhandles \u001b[38;5;241m=\u001b[39m get_handle(\n\u001b[0;32m   1881\u001b[0m     f,\n\u001b[0;32m   1882\u001b[0m     mode,\n\u001b[0;32m   1883\u001b[0m     encoding\u001b[38;5;241m=\u001b[39m\u001b[38;5;28mself\u001b[39m\u001b[38;5;241m.\u001b[39moptions\u001b[38;5;241m.\u001b[39mget(\u001b[38;5;124m\"\u001b[39m\u001b[38;5;124mencoding\u001b[39m\u001b[38;5;124m\"\u001b[39m, \u001b[38;5;28;01mNone\u001b[39;00m),\n\u001b[0;32m   1884\u001b[0m     compression\u001b[38;5;241m=\u001b[39m\u001b[38;5;28mself\u001b[39m\u001b[38;5;241m.\u001b[39moptions\u001b[38;5;241m.\u001b[39mget(\u001b[38;5;124m\"\u001b[39m\u001b[38;5;124mcompression\u001b[39m\u001b[38;5;124m\"\u001b[39m, \u001b[38;5;28;01mNone\u001b[39;00m),\n\u001b[0;32m   1885\u001b[0m     memory_map\u001b[38;5;241m=\u001b[39m\u001b[38;5;28mself\u001b[39m\u001b[38;5;241m.\u001b[39moptions\u001b[38;5;241m.\u001b[39mget(\u001b[38;5;124m\"\u001b[39m\u001b[38;5;124mmemory_map\u001b[39m\u001b[38;5;124m\"\u001b[39m, \u001b[38;5;28;01mFalse\u001b[39;00m),\n\u001b[0;32m   1886\u001b[0m     is_text\u001b[38;5;241m=\u001b[39mis_text,\n\u001b[0;32m   1887\u001b[0m     errors\u001b[38;5;241m=\u001b[39m\u001b[38;5;28mself\u001b[39m\u001b[38;5;241m.\u001b[39moptions\u001b[38;5;241m.\u001b[39mget(\u001b[38;5;124m\"\u001b[39m\u001b[38;5;124mencoding_errors\u001b[39m\u001b[38;5;124m\"\u001b[39m, \u001b[38;5;124m\"\u001b[39m\u001b[38;5;124mstrict\u001b[39m\u001b[38;5;124m\"\u001b[39m),\n\u001b[0;32m   1888\u001b[0m     storage_options\u001b[38;5;241m=\u001b[39m\u001b[38;5;28mself\u001b[39m\u001b[38;5;241m.\u001b[39moptions\u001b[38;5;241m.\u001b[39mget(\u001b[38;5;124m\"\u001b[39m\u001b[38;5;124mstorage_options\u001b[39m\u001b[38;5;124m\"\u001b[39m, \u001b[38;5;28;01mNone\u001b[39;00m),\n\u001b[0;32m   1889\u001b[0m )\n\u001b[0;32m   1890\u001b[0m \u001b[38;5;28;01massert\u001b[39;00m \u001b[38;5;28mself\u001b[39m\u001b[38;5;241m.\u001b[39mhandles \u001b[38;5;129;01mis\u001b[39;00m \u001b[38;5;129;01mnot\u001b[39;00m \u001b[38;5;28;01mNone\u001b[39;00m\n\u001b[0;32m   1891\u001b[0m f \u001b[38;5;241m=\u001b[39m \u001b[38;5;28mself\u001b[39m\u001b[38;5;241m.\u001b[39mhandles\u001b[38;5;241m.\u001b[39mhandle\n",
      "File \u001b[1;32mC:\\ProgramData\\anaconda3\\Lib\\site-packages\\pandas\\io\\common.py:873\u001b[0m, in \u001b[0;36mget_handle\u001b[1;34m(path_or_buf, mode, encoding, compression, memory_map, is_text, errors, storage_options)\u001b[0m\n\u001b[0;32m    868\u001b[0m \u001b[38;5;28;01melif\u001b[39;00m \u001b[38;5;28misinstance\u001b[39m(handle, \u001b[38;5;28mstr\u001b[39m):\n\u001b[0;32m    869\u001b[0m     \u001b[38;5;66;03m# Check whether the filename is to be opened in binary mode.\u001b[39;00m\n\u001b[0;32m    870\u001b[0m     \u001b[38;5;66;03m# Binary mode does not support 'encoding' and 'newline'.\u001b[39;00m\n\u001b[0;32m    871\u001b[0m     \u001b[38;5;28;01mif\u001b[39;00m ioargs\u001b[38;5;241m.\u001b[39mencoding \u001b[38;5;129;01mand\u001b[39;00m \u001b[38;5;124m\"\u001b[39m\u001b[38;5;124mb\u001b[39m\u001b[38;5;124m\"\u001b[39m \u001b[38;5;129;01mnot\u001b[39;00m \u001b[38;5;129;01min\u001b[39;00m ioargs\u001b[38;5;241m.\u001b[39mmode:\n\u001b[0;32m    872\u001b[0m         \u001b[38;5;66;03m# Encoding\u001b[39;00m\n\u001b[1;32m--> 873\u001b[0m         handle \u001b[38;5;241m=\u001b[39m \u001b[38;5;28mopen\u001b[39m(\n\u001b[0;32m    874\u001b[0m             handle,\n\u001b[0;32m    875\u001b[0m             ioargs\u001b[38;5;241m.\u001b[39mmode,\n\u001b[0;32m    876\u001b[0m             encoding\u001b[38;5;241m=\u001b[39mioargs\u001b[38;5;241m.\u001b[39mencoding,\n\u001b[0;32m    877\u001b[0m             errors\u001b[38;5;241m=\u001b[39merrors,\n\u001b[0;32m    878\u001b[0m             newline\u001b[38;5;241m=\u001b[39m\u001b[38;5;124m\"\u001b[39m\u001b[38;5;124m\"\u001b[39m,\n\u001b[0;32m    879\u001b[0m         )\n\u001b[0;32m    880\u001b[0m     \u001b[38;5;28;01melse\u001b[39;00m:\n\u001b[0;32m    881\u001b[0m         \u001b[38;5;66;03m# Binary mode\u001b[39;00m\n\u001b[0;32m    882\u001b[0m         handle \u001b[38;5;241m=\u001b[39m \u001b[38;5;28mopen\u001b[39m(handle, ioargs\u001b[38;5;241m.\u001b[39mmode)\n",
      "\u001b[1;31mFileNotFoundError\u001b[0m: [Errno 2] No such file or directory: 'descriptors_output.csv'"
     ]
    }
   ],
   "source": [
    "df3_X = pd.read_csv('descriptors_output.csv')"
   ]
  },
  {
   "cell_type": "code",
   "execution_count": null,
   "metadata": {
    "colab": {
     "base_uri": "https://localhost:8080/",
     "height": 435
    },
    "colab_type": "code",
    "id": "hBp1PTObFQDd",
    "outputId": "26a4603a-d1b2-4d64-e1c8-cf5fd0612bbf"
   },
   "outputs": [],
   "source": [
    "df3_X"
   ]
  },
  {
   "cell_type": "code",
   "execution_count": null,
   "metadata": {
    "colab": {
     "base_uri": "https://localhost:8080/",
     "height": 435
    },
    "colab_type": "code",
    "id": "dTJsDPBKq_hr",
    "outputId": "c92c4d7d-6df7-40b0-a7b8-ce644bacb52a"
   },
   "outputs": [],
   "source": [
    "df3_X = df3_X.drop(columns=['Name'])\n",
    "df3_X"
   ]
  },
  {
   "cell_type": "markdown",
   "metadata": {
    "colab_type": "text",
    "id": "6ePu814KZNBG"
   },
   "source": [
    "## **Y variable**"
   ]
  },
  {
   "cell_type": "markdown",
   "metadata": {
    "colab_type": "text",
    "id": "9ssfxFCdr7ua"
   },
   "source": [
    "### **Convert IC50 to pIC50**"
   ]
  },
  {
   "cell_type": "code",
   "execution_count": null,
   "metadata": {
    "colab": {
     "base_uri": "https://localhost:8080/",
     "height": 225
    },
    "colab_type": "code",
    "id": "FlhsSEW5FXTG",
    "outputId": "ef224d6b-4cf3-4bde-fe83-d2e43f6e246c"
   },
   "outputs": [],
   "source": [
    "df3_Y = df3['pIC50']\n",
    "df3_Y"
   ]
  },
  {
   "cell_type": "markdown",
   "metadata": {
    "colab_type": "text",
    "id": "eET6iZ1Aw3oe"
   },
   "source": [
    "## **Combining X and Y variable**"
   ]
  },
  {
   "cell_type": "code",
   "execution_count": null,
   "metadata": {
    "colab": {
     "base_uri": "https://localhost:8080/",
     "height": 435
    },
    "colab_type": "code",
    "id": "FRBfBP3QxFJp",
    "outputId": "ee900c26-ff5c-4e20-a3fb-7b1f9367db66"
   },
   "outputs": [],
   "source": [
    "dataset3 = pd.concat([df3_X,df3_Y], axis=1)\n",
    "dataset3"
   ]
  },
  {
   "cell_type": "code",
   "execution_count": null,
   "metadata": {
    "colab": {},
    "colab_type": "code",
    "id": "75npGyvhae0e"
   },
   "outputs": [],
   "source": [
    "dataset3.to_csv('acetylcholinesterase_06_bioactivity_data_3class_pIC50_pubchem_fp.csv', index=False)"
   ]
  },
  {
   "cell_type": "markdown",
   "metadata": {
    "colab_type": "text",
    "id": "nFpLoNRHeRa6"
   },
   "source": [
    "# **Let's download the CSV file to your local computer for the Part 3B (Model Building).**"
   ]
  },
  {
   "cell_type": "code",
   "execution_count": null,
   "metadata": {},
   "outputs": [],
   "source": []
  }
 ],
 "metadata": {
  "colab": {
   "collapsed_sections": [],
   "name": "CDD-ML-Part-3-Acetylcholinesterase-Descriptor-Dataset-Preparation.ipynb",
   "provenance": []
  },
  "kernelspec": {
   "display_name": "Python 3 (ipykernel)",
   "language": "python",
   "name": "python3"
  },
  "language_info": {
   "codemirror_mode": {
    "name": "ipython",
    "version": 3
   },
   "file_extension": ".py",
   "mimetype": "text/x-python",
   "name": "python",
   "nbconvert_exporter": "python",
   "pygments_lexer": "ipython3",
   "version": "3.10.19"
  }
 },
 "nbformat": 4,
 "nbformat_minor": 4
}
