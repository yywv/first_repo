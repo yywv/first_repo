{
 "cells": [
  {
   "cell_type": "code",
   "execution_count": null,
   "id": "61839691-934f-43c6-a456-dbbf5ca9b9ee",
   "metadata": {},
   "outputs": [],
   "source": [
    "# assign a value to a variable named pi and radius\n",
    "pi = 3.14159\n",
    "radius = 2.2\n",
    "# area of circle equation <- this is a comment\n",
    "area = pi*(radius**2) #use the built in operators in an expression to get a value assigned to a variable\n",
    "# use the print command to print the value stored in a variable\n",
    "print(area)"
   ]
  },
  {
   "cell_type": "code",
   "execution_count": null,
   "id": "15c089b1-e370-4a55-8d2a-19ad84173d1f",
   "metadata": {},
   "outputs": [],
   "source": [
    "# change values of radius <- another comment\n",
    "# use comments to help others understand what you are doing in code\n",
    "radius = radius + 1 # call the variable in its own assignment and add slight change\n",
    "print(area)     # area doesn't change \n",
    "area = pi*(radius**2)  # reassign the value by using the formula again\n",
    "print(area) # print the variable to see the new changes made"
   ]
  },
  {
   "cell_type": "code",
   "execution_count": null,
   "id": "a42263c5-3cb0-45c4-a1f0-13f896fb581b",
   "metadata": {},
   "outputs": [],
   "source": [
    "#############################\n",
    "#### COMMENTING LINES #######\n",
    "#############################\n",
    "# to comment MANY lines at a time, highlight all of them then CTRL+1\n",
    "# do CTRL+1 again to uncomment them\n",
    "# try it on the next few lines below!\n",
    "\n",
    "#area = pi*(radius**2)\n",
    "#print(area)\n",
    "#radius = radius + 1\n",
    "#area = pi*(radius**2)\n",
    "#print(area)\n"
   ]
  },
  {
   "cell_type": "code",
   "execution_count": null,
   "id": "b82d1190-98d7-4c9a-979e-7e500d5bf099",
   "metadata": {},
   "outputs": [],
   "source": [
    "#############################\n",
    "#### AUTOCOMPLETE #######\n",
    "#############################\n",
    "# Spyder can autocomplete names for you\n",
    "# start typing a variable name defined in your program and hit tab \n",
    "# before you finish typing -- try it below\n",
    "\n",
    "# define a variable\n",
    "a_very_long_variable_name_dont_name_them_this_long_pls = 0\n",
    "\n",
    "# below, start typing a_ve then hit tab... cool, right!\n",
    "# use autocomplete to change the value of that variable to 1\n",
    "\n",
    "# use autocomplete to write a line that prints the value of that long variable\n",
    "# notice that Spyder also automatically adds the closed parentheses for you!"
   ]
  }
 ],
 "metadata": {
  "kernelspec": {
   "display_name": "Python 3 (ipykernel)",
   "language": "python",
   "name": "python3"
  },
  "language_info": {
   "codemirror_mode": {
    "name": "ipython",
    "version": 3
   },
   "file_extension": ".py",
   "mimetype": "text/x-python",
   "name": "python",
   "nbconvert_exporter": "python",
   "pygments_lexer": "ipython3",
   "version": "3.12.7"
  }
 },
 "nbformat": 4,
 "nbformat_minor": 5
}
